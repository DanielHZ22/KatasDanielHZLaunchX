{
 "cells": [
  {
   "cell_type": "code",
   "execution_count": 1,
   "metadata": {},
   "outputs": [],
   "source": [
    "tierra = 149597870\n",
    "jupiter = 778547200"
   ]
  },
  {
   "cell_type": "code",
   "execution_count": 7,
   "metadata": {},
   "outputs": [
    {
     "name": "stdout",
     "output_type": "stream",
     "text": [
      "Distancia en km:  628949330\n",
      "Distanacia en millas 390577534\n"
     ]
    }
   ],
   "source": [
    "distancia = tierra - jupiter\n",
    "millas = distancia * 0.621\n",
    "print (\"Distancia en km: \", (abs(distancia)))\n",
    "print (\"Distanacia en millas\", (abs(round(millas))))"
   ]
  },
  {
   "cell_type": "markdown",
   "metadata": {},
   "source": [
    " # Ejercicio 2"
   ]
  },
  {
   "cell_type": "code",
   "execution_count": 11,
   "metadata": {},
   "outputs": [
    {
     "name": "stdout",
     "output_type": "stream",
     "text": [
      "Distancia en km:  4267200000\n",
      "Distanacia en millas 2649931200\n"
     ]
    }
   ],
   "source": [
    "primerP = input(\"Introduzca la distancia en km entre el primer planeta y el sol\")\n",
    "segundoP = input(\"Introduzca la distancia en km entre el segundo planeta y el sol\")\n",
    "primerP = int(primerP)\n",
    "segundoP = int(segundoP)\n",
    "distancia2 = segundoP - primerP\n",
    "millas2 = distancia2 * 0.621\n",
    "print (\"Distancia en km: \", (abs(distancia2)))\n",
    "print (\"Distanacia en millas\", (abs(round(millas2))))"
   ]
  },
  {
   "cell_type": "code",
   "execution_count": null,
   "metadata": {},
   "outputs": [],
   "source": []
  }
 ],
 "metadata": {
  "interpreter": {
   "hash": "b3ba2566441a7c06988d0923437866b63cedc61552a5af99d1f4fb67d367b25f"
  },
  "kernelspec": {
   "display_name": "Python 3.8.8 ('base')",
   "language": "python",
   "name": "python3"
  },
  "language_info": {
   "codemirror_mode": {
    "name": "ipython",
    "version": 3
   },
   "file_extension": ".py",
   "mimetype": "text/x-python",
   "name": "python",
   "nbconvert_exporter": "python",
   "pygments_lexer": "ipython3",
   "version": "3.8.8"
  },
  "orig_nbformat": 4
 },
 "nbformat": 4,
 "nbformat_minor": 2
}
