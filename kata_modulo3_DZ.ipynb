{
 "cells": [
  {
   "cell_type": "code",
   "execution_count": 2,
   "metadata": {},
   "outputs": [
    {
     "name": "stdout",
     "output_type": "stream",
     "text": [
      "Todo en orden, Fuera de peligro, sigue con tu dia :D\n"
     ]
    }
   ],
   "source": [
    "Vasteroide = 49\n",
    "Vriesgo = 25\n",
    "\n",
    "if Vasteroide > Vriesgo:\n",
    "    print (\"¡ALERTA!  Posible colicion de asteroide!\")\n",
    "else:\n",
    "    print (\"Todo en orden, Fuera de peligro, sigue con tu dia :D\")"
   ]
  },
  {
   "cell_type": "code",
   "execution_count": 4,
   "metadata": {},
   "outputs": [
    {
     "name": "stdout",
     "output_type": "stream",
     "text": [
      "No hay  nada visible sigue con tu día\n"
     ]
    }
   ],
   "source": [
    "Vasteroide2 = 19\n",
    "RayoLuz = 20\n",
    "if Vasteroide2 > RayoLuz:\n",
    "    print (\"Busca el rayo de luz en el cielo :D\")\n",
    "elif Vasteroide2 == RayoLuz:\n",
    "    print (\"Busca el rayo de luz en el cielo :D\")\n",
    "else:\n",
    "    print (\"No hay  nada visible sigue con tu día\")"
   ]
  },
  {
   "cell_type": "code",
   "execution_count": 5,
   "metadata": {},
   "outputs": [
    {
     "name": "stdout",
     "output_type": "stream",
     "text": [
      "Busca el rayo de luz en el cielo :D\n"
     ]
    }
   ],
   "source": [
    "Vasteroide3 = 25\n",
    "Tasteroide = 65\n",
    "if Vasteroide3 > 25 and Tasteroide > 25:\n",
    "    print (\"¡ALERTA!  Posible colicion de asteroide!\")\n",
    "elif Vasteroide3 >= 20:\n",
    "    print (\"Busca el rayo de luz en el cielo :D\")\n",
    "elif Tasteroide < 25:\n",
    "    print (\"No hay peligro alguno\")\n",
    "else:\n",
    "        print (\"No hay peligro alguno\") "
   ]
  }
 ],
 "metadata": {
  "interpreter": {
   "hash": "b3ba2566441a7c06988d0923437866b63cedc61552a5af99d1f4fb67d367b25f"
  },
  "kernelspec": {
   "display_name": "Python 3.8.8 ('base')",
   "language": "python",
   "name": "python3"
  },
  "language_info": {
   "codemirror_mode": {
    "name": "ipython",
    "version": 3
   },
   "file_extension": ".py",
   "mimetype": "text/x-python",
   "name": "python",
   "nbconvert_exporter": "python",
   "pygments_lexer": "ipython3",
   "version": "3.8.8"
  },
  "orig_nbformat": 4
 },
 "nbformat": 4,
 "nbformat_minor": 2
}
