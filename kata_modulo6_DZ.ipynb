{
 "cells": [
  {
   "cell_type": "markdown",
   "metadata": {},
   "source": [
    "# Ejercicio 1"
   ]
  },
  {
   "cell_type": "code",
   "execution_count": 3,
   "metadata": {},
   "outputs": [
    {
     "name": "stdout",
     "output_type": "stream",
     "text": [
      "Numero total de planetas en el sistema solar:  8 Planetas\n"
     ]
    }
   ],
   "source": [
    "planets = ['Mercury', 'Venus', 'Earth', 'Mars', 'Jupiter', 'Saturn', 'Uranus', 'Neptune']\n",
    "number_of_planets = len(planets)\n",
    "print (\"Numero total de planetas en el sistema solar: \", (number_of_planets), \"Planetas\")"
   ]
  },
  {
   "cell_type": "code",
   "execution_count": 5,
   "metadata": {},
   "outputs": [
    {
     "name": "stdout",
     "output_type": "stream",
     "text": [
      "Numero total de planetas en el sistema solar:  10 Planetas\n",
      "El ultimo planeta del sistema solar es:  Pluto\n"
     ]
    }
   ],
   "source": [
    "planets.append('Pluto')\n",
    "number_of_planets = len(planets)\n",
    "print (\"Numero total de planetas en el sistema solar: \", (number_of_planets), \"Planetas\")\n",
    "print(\"El ultimo planeta del sistema solar es: \", planets[-1])"
   ]
  },
  {
   "cell_type": "markdown",
   "metadata": {},
   "source": [
    "# Ejercicio 2"
   ]
  },
  {
   "cell_type": "code",
   "execution_count": 11,
   "metadata": {},
   "outputs": [
    {
     "name": "stdout",
     "output_type": "stream",
     "text": [
      "El planeta ingresado es el numero  3 en el sistema solar\n",
      "Los planetas mas cercanos a  Earth son:\n",
      "['Mercury', 'Venus']\n",
      "Los planetas mas alejados a  Earth son:\n",
      "['Mars', 'Jupiter', 'Saturn', 'Uranus', 'Neptune']\n"
     ]
    }
   ],
   "source": [
    "planets = ['Mercury', 'Venus', 'Earth', 'Mars', 'Jupiter', 'Saturn', 'Uranus', 'Neptune']\n",
    "solicitar_planeta = input(\"Porfavor ingresa nombre de un plante (primer letra en mayuscula): \")\n",
    "usuario_index = planets.index(solicitar_planeta)\n",
    "print(\"El planeta ingresado es el numero \", usuario_index + 1, \"en el sistema solar\")\n",
    "print (\"Los planetas mas cercanos a \", solicitar_planeta, \"son:\")\n",
    "print(planets[0:usuario_index])\n",
    "print (\"Los planetas mas alejados a \", solicitar_planeta, \"son:\")\n",
    "print(planets[usuario_index + 1:])"
   ]
  }
 ],
 "metadata": {
  "interpreter": {
   "hash": "b3ba2566441a7c06988d0923437866b63cedc61552a5af99d1f4fb67d367b25f"
  },
  "kernelspec": {
   "display_name": "Python 3.8.8 ('base')",
   "language": "python",
   "name": "python3"
  },
  "language_info": {
   "codemirror_mode": {
    "name": "ipython",
    "version": 3
   },
   "file_extension": ".py",
   "mimetype": "text/x-python",
   "name": "python",
   "nbconvert_exporter": "python",
   "pygments_lexer": "ipython3",
   "version": "3.8.8"
  },
  "orig_nbformat": 4
 },
 "nbformat": 4,
 "nbformat_minor": 2
}
